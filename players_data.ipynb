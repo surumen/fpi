{
 "cells": [
  {
   "cell_type": "markdown",
   "id": "8d154dca-63f6-479e-8a0f-c798e5bfedbe",
   "metadata": {},
   "source": [
    "## Data Collection - Players"
   ]
  },
  {
   "cell_type": "markdown",
   "id": "ea2e83e7-3254-4793-8336-7d2986b97ffb",
   "metadata": {},
   "source": [
    "---"
   ]
  },
  {
   "cell_type": "markdown",
   "id": "513f917f-d717-4e73-b90e-cda2448b62b7",
   "metadata": {},
   "source": [
    "  "
   ]
  },
  {
   "cell_type": "code",
   "execution_count": 1,
   "id": "534d6636-ce68-43f0-a0d1-f6a83e089d63",
   "metadata": {},
   "outputs": [],
   "source": [
    "import pandas as pd\n",
    "from functools import reduce\n",
    "\n",
    "from client.models.player import Player\n",
    "from client.scrapers.fifa import get_player_by_name\n",
    "\n",
    "from client.scrapers.whoscored.player import crawl_player_overall_stats, crawl_player_defensive_stats, \\\n",
    "crawl_player_passing_stats, crawl_player_offensive_stats"
   ]
  },
  {
   "cell_type": "markdown",
   "id": "2a34e82c-43e7-486e-89d8-c0428a75073f",
   "metadata": {},
   "source": [
    " "
   ]
  },
  {
   "cell_type": "code",
   "execution_count": 5,
   "id": "31b0ccae-5743-4ccd-9a65-8a71c0a9868d",
   "metadata": {},
   "outputs": [],
   "source": [
    "league_team_df = pd.read_csv('./league/Premier League.csv')"
   ]
  },
  {
   "cell_type": "code",
   "execution_count": 6,
   "id": "d5eb5d0a-bfc0-414e-ab95-216c29d74e9c",
   "metadata": {},
   "outputs": [],
   "source": [
    "players = []\n",
    "for idx, row in league_team_df.iterrows():\n",
    "    if idx < 1:\n",
    "        # excute player data crawling functions \n",
    "        overall_df = crawl_player_overall_stats(int(row.team_id))\n",
    "        defensive_df = crawl_player_defensive_stats(int(row.team_id))\n",
    "        passing_df = crawl_player_passing_stats(int(row.team_id))\n",
    "        offensive_df = crawl_player_offensive_stats(int(row.team_id))\n",
    "    \n",
    "        # merge dataframes\n",
    "        players_df = reduce(lambda x,y: pd.merge(x,y, on='name', how='outer'), [overall_df, defensive_df, passing_df, offensive_df])\n",
    "\n",
    "        for i, player_row in players_df.iterrows():\n",
    "            player: Player = get_player_by_name(player_name=player_row['name'], team_name=row.team_name)\n",
    "            stats = player_row.to_dict()\n",
    "            stats.pop('name')\n",
    "            player.set_stats(data=player_row.to_dict())\n",
    "            players.append(player)"
   ]
  },
  {
   "cell_type": "code",
   "execution_count": 7,
   "id": "b6a0e0a8-76fd-437d-9e0e-b40a7eedce35",
   "metadata": {},
   "outputs": [
    {
     "data": {
      "text/plain": [
       "[Bukayo Saka, Arsenal-RW,RM,\n",
       " Declan Rice, Arsenal-CDM,CM,\n",
       " Gabriel Martinelli, Arsenal-LW,LM,\n",
       " Martin Ødegaard, Arsenal-CAM,CM,\n",
       " Thomas Partey, Arsenal-CDM,CM,\n",
       " Eddie Nketiah, Arsenal-ST,\n",
       " Gabriel Jesus, Arsenal-ST,RW,\n",
       " Ben White, Arsenal-RB,CB,\n",
       " Oleksandr Zinchenko, Arsenal-LB,\n",
       " Leandro Trossard, Arsenal-CF,LW,\n",
       " Gabriel Magalhães, Arsenal-CB,\n",
       " William Saliba, Arsenal-CB,\n",
       " David Raya, Arsenal-GK,\n",
       " Jurriën Timber, Arsenal-CB,RB,\n",
       " Kai Havertz, Arsenal-CAM,RW,ST,\n",
       " Fábio Vieira, Arsenal-CAM,CM,\n",
       " Emile Smith Rowe, Arsenal-LW,CAM,\n",
       " Takehiro Tomiyasu, Arsenal-RB,LB,\n",
       " Jakub Kiwior, Arsenal-CB,CDM,\n",
       " Mohamed Elneny, Arsenal-CDM,CM,\n",
       " Aaron Ramsdale, Arsenal-GK,\n",
       " Jorginho, Arsenal-CDM,CM,\n",
       " Reiss Nelson, Arsenal-RW,LW]"
      ]
     },
     "execution_count": 7,
     "metadata": {},
     "output_type": "execute_result"
    }
   ],
   "source": [
    "players"
   ]
  },
  {
   "cell_type": "code",
   "execution_count": null,
   "id": "82360077-8398-4554-97fc-273df2227e6a",
   "metadata": {},
   "outputs": [],
   "source": []
  }
 ],
 "metadata": {
  "kernelspec": {
   "display_name": "venv",
   "language": "python",
   "name": "venv"
  },
  "language_info": {
   "codemirror_mode": {
    "name": "ipython",
    "version": 3
   },
   "file_extension": ".py",
   "mimetype": "text/x-python",
   "name": "python",
   "nbconvert_exporter": "python",
   "pygments_lexer": "ipython3",
   "version": "3.12.0"
  }
 },
 "nbformat": 4,
 "nbformat_minor": 5
}
