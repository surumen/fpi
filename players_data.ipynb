{
 "cells": [
  {
   "cell_type": "markdown",
   "id": "8d154dca-63f6-479e-8a0f-c798e5bfedbe",
   "metadata": {},
   "source": [
    "## Data Collection - Players"
   ]
  },
  {
   "cell_type": "markdown",
   "id": "ea2e83e7-3254-4793-8336-7d2986b97ffb",
   "metadata": {},
   "source": [
    "---"
   ]
  },
  {
   "cell_type": "markdown",
   "id": "513f917f-d717-4e73-b90e-cda2448b62b7",
   "metadata": {},
   "source": [
    "  "
   ]
  },
  {
   "cell_type": "code",
   "execution_count": 7,
   "id": "534d6636-ce68-43f0-a0d1-f6a83e089d63",
   "metadata": {},
   "outputs": [],
   "source": [
    "import pandas as pd\n",
    "from functools import reduce\n",
    "\n",
    "from client.models.player import Player\n",
    "from client.scrapers.fifa.player_bio import get_player_by_name\n",
    "\n",
    "from client.scrapers.whoscored.player import crawl_player_overall_stats, crawl_player_defensive_stats, \\\n",
    "crawl_player_passing_stats, crawl_player_offensive_stats"
   ]
  },
  {
   "cell_type": "markdown",
   "id": "2a34e82c-43e7-486e-89d8-c0428a75073f",
   "metadata": {},
   "source": [
    " "
   ]
  },
  {
   "cell_type": "code",
   "execution_count": 5,
   "id": "31b0ccae-5743-4ccd-9a65-8a71c0a9868d",
   "metadata": {},
   "outputs": [],
   "source": [
    "league_team_df = pd.read_csv('./league/Premier League.csv')"
   ]
  },
  {
   "cell_type": "code",
   "execution_count": null,
   "id": "d5eb5d0a-bfc0-414e-ab95-216c29d74e9c",
   "metadata": {},
   "outputs": [],
   "source": [
    "players_df = \n",
    "for idx, row in league_team_df.iterrows():\n",
    "    \n",
    "    # excute player data crawling functions \n",
    "    player_overall_df = crawl_player_overall_stats(row.team_id)\n",
    "    player_defensive_df = crawl_player_defensive_stats(row.team_id)\n",
    "    player_passing_df = crawl_player_passing_stats(row.team_id)\n",
    "    player_offensive_df = crawl_player_offensive_stats(row.team_id)\n",
    "\n",
    "    # merge dataframes\n",
    "    merged_df = reduce(lambda x,y: pd.merge(x,y, on='name', how='outer'), [player_overall_df,\n",
    "                        player_defensive_df, player_passing_df, player_offensive_df])"
   ]
  }
 ],
 "metadata": {
  "kernelspec": {
   "display_name": "venv",
   "language": "python",
   "name": "venv"
  },
  "language_info": {
   "codemirror_mode": {
    "name": "ipython",
    "version": 3
   },
   "file_extension": ".py",
   "mimetype": "text/x-python",
   "name": "python",
   "nbconvert_exporter": "python",
   "pygments_lexer": "ipython3",
   "version": "3.12.0"
  }
 },
 "nbformat": 4,
 "nbformat_minor": 5
}
