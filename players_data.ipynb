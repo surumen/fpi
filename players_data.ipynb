{
 "cells": [
  {
   "cell_type": "markdown",
   "id": "8d154dca-63f6-479e-8a0f-c798e5bfedbe",
   "metadata": {},
   "source": [
    "## Data Collection - Players"
   ]
  },
  {
   "cell_type": "markdown",
   "id": "ea2e83e7-3254-4793-8336-7d2986b97ffb",
   "metadata": {},
   "source": [
    "---"
   ]
  },
  {
   "cell_type": "markdown",
   "id": "513f917f-d717-4e73-b90e-cda2448b62b7",
   "metadata": {},
   "source": [
    "  "
   ]
  },
  {
   "cell_type": "code",
   "execution_count": 7,
   "id": "534d6636-ce68-43f0-a0d1-f6a83e089d63",
   "metadata": {},
   "outputs": [],
   "source": [
    "import pandas as pd\n",
    "from functools import reduce\n",
    "\n",
    "from client.models.player import Player\n",
    "from client.scrapers.fifa.player_bio import get_player_by_name\n",
    "\n",
    "from client.scrapers.whoscored.player import crawl_player_overall_stats, crawl_player_defensive_stats, \\\n",
    "crawl_player_passing_stats, crawl_player_offensive_stats"
   ]
  },
  {
   "cell_type": "markdown",
   "id": "2a34e82c-43e7-486e-89d8-c0428a75073f",
   "metadata": {},
   "source": [
    " "
   ]
  },
  {
   "cell_type": "code",
   "execution_count": 5,
   "id": "31b0ccae-5743-4ccd-9a65-8a71c0a9868d",
   "metadata": {},
   "outputs": [],
   "source": [
    "league_team_df = pd.read_csv('./league/Premier League.csv')"
   ]
  },
  {
   "cell_type": "code",
   "execution_count": 9,
   "id": "d5eb5d0a-bfc0-414e-ab95-216c29d74e9c",
   "metadata": {},
   "outputs": [
    {
     "ename": "TypeError",
     "evalue": "can only concatenate str (not \"int\") to str",
     "output_type": "error",
     "traceback": [
      "\u001b[0;31m---------------------------------------------------------------------------\u001b[0m",
      "\u001b[0;31mTypeError\u001b[0m                                 Traceback (most recent call last)",
      "Cell \u001b[0;32mIn[9], line 5\u001b[0m\n\u001b[1;32m      1\u001b[0m players_df \u001b[38;5;241m=\u001b[39m pd\u001b[38;5;241m.\u001b[39mDataFrame()\n\u001b[1;32m      2\u001b[0m \u001b[38;5;28;01mfor\u001b[39;00m idx, row \u001b[38;5;129;01min\u001b[39;00m league_team_df\u001b[38;5;241m.\u001b[39miterrows():\n\u001b[1;32m      3\u001b[0m     \n\u001b[1;32m      4\u001b[0m     \u001b[38;5;66;03m# excute player data crawling functions \u001b[39;00m\n\u001b[0;32m----> 5\u001b[0m     player_overall_df \u001b[38;5;241m=\u001b[39m \u001b[43mcrawl_player_overall_stats\u001b[49m\u001b[43m(\u001b[49m\u001b[38;5;28;43mint\u001b[39;49m\u001b[43m(\u001b[49m\u001b[43mrow\u001b[49m\u001b[38;5;241;43m.\u001b[39;49m\u001b[43mteam_id\u001b[49m\u001b[43m)\u001b[49m\u001b[43m)\u001b[49m\n\u001b[1;32m      6\u001b[0m     player_defensive_df \u001b[38;5;241m=\u001b[39m crawl_player_defensive_stats(\u001b[38;5;28mint\u001b[39m(row\u001b[38;5;241m.\u001b[39mteam_id))\n\u001b[1;32m      7\u001b[0m     player_passing_df \u001b[38;5;241m=\u001b[39m crawl_player_passing_stats(\u001b[38;5;28mint\u001b[39m(row\u001b[38;5;241m.\u001b[39mteam_id))\n",
      "File \u001b[0;32m~/Desktop/football/client/scrapers/whoscored/player/overall.py:53\u001b[0m, in \u001b[0;36mcrawl_player_overall_stats\u001b[0;34m(team_id, api_delay_term)\u001b[0m\n\u001b[1;32m     47\u001b[0m     \u001b[38;5;66;03m# player name\u001b[39;00m\n\u001b[1;32m     48\u001b[0m     name \u001b[38;5;241m=\u001b[39m element\u001b[38;5;241m.\u001b[39mfind_elements(By\u001b[38;5;241m.\u001b[39mCSS_SELECTOR, \u001b[38;5;124m'\u001b[39m\u001b[38;5;124mtd\u001b[39m\u001b[38;5;124m'\u001b[39m)[\u001b[38;5;241m0\u001b[39m]\u001b[38;5;241m.\u001b[39mfind_elements(By\u001b[38;5;241m.\u001b[39mCSS_SELECTOR, \u001b[38;5;124m'\u001b[39m\u001b[38;5;124ma\u001b[39m\u001b[38;5;124m'\u001b[39m)[\u001b[38;5;241m0\u001b[39m]\u001b[38;5;241m.\u001b[39mfind_elements(\n\u001b[1;32m     49\u001b[0m         By\u001b[38;5;241m.\u001b[39mCSS_SELECTOR, \u001b[38;5;124m'\u001b[39m\u001b[38;5;124mspan\u001b[39m\u001b[38;5;124m'\u001b[39m)[\u001b[38;5;241m0\u001b[39m]\u001b[38;5;241m.\u001b[39mtext\n\u001b[1;32m     51\u001b[0m     player_dict \u001b[38;5;241m=\u001b[39m {\n\u001b[1;32m     52\u001b[0m         \u001b[38;5;124m'\u001b[39m\u001b[38;5;124mname\u001b[39m\u001b[38;5;124m'\u001b[39m: name,\n\u001b[0;32m---> 53\u001b[0m         \u001b[38;5;124m'\u001b[39m\u001b[38;5;124mtotal_apps\u001b[39m\u001b[38;5;124m'\u001b[39m: \u001b[43mfull_time\u001b[49m\u001b[43m \u001b[49m\u001b[38;5;241;43m+\u001b[39;49m\u001b[43m \u001b[49m\u001b[43mhalf_time\u001b[49m,\n\u001b[1;32m     54\u001b[0m         \u001b[38;5;124m'\u001b[39m\u001b[38;5;124mstarting_apps\u001b[39m\u001b[38;5;124m'\u001b[39m: full_time,\n\u001b[1;32m     55\u001b[0m         \u001b[38;5;124m'\u001b[39m\u001b[38;5;124msub_apps\u001b[39m\u001b[38;5;124m'\u001b[39m: half_time,\n\u001b[1;32m     56\u001b[0m         \u001b[38;5;124m'\u001b[39m\u001b[38;5;124mmins_played\u001b[39m\u001b[38;5;124m'\u001b[39m: element\u001b[38;5;241m.\u001b[39mfind_elements(By\u001b[38;5;241m.\u001b[39mCSS_SELECTOR, \u001b[38;5;124m'\u001b[39m\u001b[38;5;124mtd\u001b[39m\u001b[38;5;124m'\u001b[39m)[\u001b[38;5;241m5\u001b[39m]\u001b[38;5;241m.\u001b[39mtext,\n\u001b[1;32m     57\u001b[0m         \u001b[38;5;124m'\u001b[39m\u001b[38;5;124myellow\u001b[39m\u001b[38;5;124m'\u001b[39m: element\u001b[38;5;241m.\u001b[39mfind_elements(By\u001b[38;5;241m.\u001b[39mCSS_SELECTOR, \u001b[38;5;124m'\u001b[39m\u001b[38;5;124mtd\u001b[39m\u001b[38;5;124m'\u001b[39m)[\u001b[38;5;241m8\u001b[39m]\u001b[38;5;241m.\u001b[39mtext,\n\u001b[1;32m     58\u001b[0m         \u001b[38;5;124m'\u001b[39m\u001b[38;5;124mred\u001b[39m\u001b[38;5;124m'\u001b[39m: element\u001b[38;5;241m.\u001b[39mfind_elements(By\u001b[38;5;241m.\u001b[39mCSS_SELECTOR, \u001b[38;5;124m'\u001b[39m\u001b[38;5;124mtd\u001b[39m\u001b[38;5;124m'\u001b[39m)[\u001b[38;5;241m9\u001b[39m]\u001b[38;5;241m.\u001b[39mtext,\n\u001b[1;32m     59\u001b[0m         \u001b[38;5;124m'\u001b[39m\u001b[38;5;124mmotm\u001b[39m\u001b[38;5;124m'\u001b[39m: element\u001b[38;5;241m.\u001b[39mfind_elements(By\u001b[38;5;241m.\u001b[39mCSS_SELECTOR, \u001b[38;5;124m'\u001b[39m\u001b[38;5;124mtd\u001b[39m\u001b[38;5;124m'\u001b[39m)[\u001b[38;5;241m13\u001b[39m]\u001b[38;5;241m.\u001b[39mtext,\n\u001b[1;32m     60\u001b[0m         \u001b[38;5;124m'\u001b[39m\u001b[38;5;124mrating\u001b[39m\u001b[38;5;124m'\u001b[39m: element\u001b[38;5;241m.\u001b[39mfind_elements(By\u001b[38;5;241m.\u001b[39mCSS_SELECTOR, \u001b[38;5;124m'\u001b[39m\u001b[38;5;124mtd\u001b[39m\u001b[38;5;124m'\u001b[39m)[\u001b[38;5;241m14\u001b[39m]\u001b[38;5;241m.\u001b[39mtext,\n\u001b[1;32m     61\u001b[0m     }\n\u001b[1;32m     63\u001b[0m     player_summary_df\u001b[38;5;241m.\u001b[39mloc[\u001b[38;5;28mlen\u001b[39m(player_summary_df)] \u001b[38;5;241m=\u001b[39m player_dict\n\u001b[1;32m     65\u001b[0m \u001b[38;5;66;03m# close web driver\u001b[39;00m\n",
      "\u001b[0;31mTypeError\u001b[0m: can only concatenate str (not \"int\") to str"
     ]
    }
   ],
   "source": [
    "players_df = pd.DataFrame()\n",
    "for idx, row in league_team_df.iterrows():\n",
    "    \n",
    "    # excute player data crawling functions \n",
    "    player_overall_df = crawl_player_overall_stats(int(row.team_id))\n",
    "    player_defensive_df = crawl_player_defensive_stats(int(row.team_id))\n",
    "    player_passing_df = crawl_player_passing_stats(int(row.team_id))\n",
    "    player_offensive_df = crawl_player_offensive_stats(int(row.team_id))\n",
    "\n",
    "    # merge dataframes\n",
    "    players_df = reduce(lambda x,y: pd.merge(x,y, on='name', how='outer'), [player_overall_df,\n",
    "                        player_defensive_df, player_passing_df, player_offensive_df])"
   ]
  },
  {
   "cell_type": "code",
   "execution_count": null,
   "id": "b6a0e0a8-76fd-437d-9e0e-b40a7eedce35",
   "metadata": {},
   "outputs": [],
   "source": []
  }
 ],
 "metadata": {
  "kernelspec": {
   "display_name": "venv",
   "language": "python",
   "name": "venv"
  },
  "language_info": {
   "codemirror_mode": {
    "name": "ipython",
    "version": 3
   },
   "file_extension": ".py",
   "mimetype": "text/x-python",
   "name": "python",
   "nbconvert_exporter": "python",
   "pygments_lexer": "ipython3",
   "version": "3.12.0"
  }
 },
 "nbformat": 4,
 "nbformat_minor": 5
}
