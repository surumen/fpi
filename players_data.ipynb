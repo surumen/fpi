{
 "cells": [
  {
   "cell_type": "markdown",
   "id": "8d154dca-63f6-479e-8a0f-c798e5bfedbe",
   "metadata": {},
   "source": [
    "## Data Collection - Players"
   ]
  },
  {
   "cell_type": "markdown",
   "id": "ea2e83e7-3254-4793-8336-7d2986b97ffb",
   "metadata": {},
   "source": [
    "---"
   ]
  },
  {
   "cell_type": "markdown",
   "id": "513f917f-d717-4e73-b90e-cda2448b62b7",
   "metadata": {},
   "source": [
    "  "
   ]
  },
  {
   "cell_type": "code",
   "execution_count": 1,
   "id": "534d6636-ce68-43f0-a0d1-f6a83e089d63",
   "metadata": {},
   "outputs": [],
   "source": [
    "import pandas as pd\n",
    "from functools import reduce\n",
    "\n",
    "from client.models.player import Player\n",
    "from client.scrapers.fifa import get_player_by_name\n",
    "\n",
    "from client.scrapers.whoscored.player import crawl_player_overall_stats, crawl_player_defensive_stats, \\\n",
    "crawl_player_passing_stats, crawl_player_offensive_stats"
   ]
  },
  {
   "cell_type": "markdown",
   "id": "2a34e82c-43e7-486e-89d8-c0428a75073f",
   "metadata": {},
   "source": [
    " "
   ]
  },
  {
   "cell_type": "code",
   "execution_count": 2,
   "id": "31b0ccae-5743-4ccd-9a65-8a71c0a9868d",
   "metadata": {},
   "outputs": [],
   "source": [
    "league_team_df = pd.read_csv('./league/Premier League.csv')"
   ]
  },
  {
   "cell_type": "code",
   "execution_count": 3,
   "id": "d5eb5d0a-bfc0-414e-ab95-216c29d74e9c",
   "metadata": {},
   "outputs": [],
   "source": [
    "players = []\n",
    "for idx, row in league_team_df.iterrows():\n",
    "    # excute player data crawling functions \n",
    "    overall_df = crawl_player_overall_stats(int(row.team_id))\n",
    "    defensive_df = crawl_player_defensive_stats(int(row.team_id))\n",
    "    passing_df = crawl_player_passing_stats(int(row.team_id))\n",
    "    offensive_df = crawl_player_offensive_stats(int(row.team_id))\n",
    "\n",
    "    # merge dataframes\n",
    "    players_df = reduce(lambda x,y: pd.merge(x,y, on='name', how='outer'), [overall_df, defensive_df, passing_df, offensive_df])\n",
    "\n",
    "    for i, player_row in players_df.iterrows():\n",
    "        player: Player = get_player_by_name(player_name=player_row['name'], team_name=row.team_name, team_id=int(row.team_id))\n",
    "        stats = player_row.to_dict()\n",
    "        stats.pop('name')\n",
    "        player.set_stats(data=player_row.to_dict())\n",
    "        players.append(player)"
   ]
  },
  {
   "cell_type": "code",
   "execution_count": 8,
   "id": "9edf6226-70a6-4cbc-8f04-2d1240884db3",
   "metadata": {},
   "outputs": [
    {
     "data": {
      "text/plain": [
       "477"
      ]
     },
     "execution_count": 8,
     "metadata": {},
     "output_type": "execute_result"
    }
   ],
   "source": [
    "len(players)"
   ]
  },
  {
   "cell_type": "code",
   "execution_count": 12,
   "id": "df8bc2be-367b-40ab-ab6e-7f59d46a0001",
   "metadata": {},
   "outputs": [],
   "source": [
    "df = pd.DataFrame([p.__dict__ for p in players])"
   ]
  },
  {
   "cell_type": "code",
   "execution_count": 14,
   "id": "00bcab28-93d4-4673-983d-67414dbe2783",
   "metadata": {},
   "outputs": [],
   "source": [
    "df.to_csv('./data/premier_league_players.csv', index=False)"
   ]
  }
 ],
 "metadata": {
  "kernelspec": {
   "display_name": "venv",
   "language": "python",
   "name": "venv"
  },
  "language_info": {
   "codemirror_mode": {
    "name": "ipython",
    "version": 3
   },
   "file_extension": ".py",
   "mimetype": "text/x-python",
   "name": "python",
   "nbconvert_exporter": "python",
   "pygments_lexer": "ipython3",
   "version": "3.12.0"
  }
 },
 "nbformat": 4,
 "nbformat_minor": 5
}
