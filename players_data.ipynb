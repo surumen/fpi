{
 "cells": [
  {
   "cell_type": "markdown",
   "id": "8d154dca-63f6-479e-8a0f-c798e5bfedbe",
   "metadata": {},
   "source": [
    "## Data Collection - Players"
   ]
  },
  {
   "cell_type": "markdown",
   "id": "ea2e83e7-3254-4793-8336-7d2986b97ffb",
   "metadata": {},
   "source": [
    "---"
   ]
  },
  {
   "cell_type": "markdown",
   "id": "513f917f-d717-4e73-b90e-cda2448b62b7",
   "metadata": {},
   "source": [
    "  "
   ]
  },
  {
   "cell_type": "code",
   "execution_count": 1,
   "id": "534d6636-ce68-43f0-a0d1-f6a83e089d63",
   "metadata": {},
   "outputs": [],
   "source": [
    "import pandas as pd\n",
    "from functools import reduce\n",
    "\n",
    "from client.models.player import Player\n",
    "from client.scrapers.fifa import get_player_by_name\n",
    "\n",
    "from client.scrapers.whoscored.player import crawl_player_overall_stats, crawl_player_defensive_stats, \\\n",
    "crawl_player_passing_stats, crawl_player_offensive_stats"
   ]
  },
  {
   "cell_type": "markdown",
   "id": "2a34e82c-43e7-486e-89d8-c0428a75073f",
   "metadata": {},
   "source": [
    " "
   ]
  },
  {
   "cell_type": "code",
   "execution_count": 2,
   "id": "31b0ccae-5743-4ccd-9a65-8a71c0a9868d",
   "metadata": {},
   "outputs": [],
   "source": [
    "league_team_df = pd.read_csv('./league/Premier League.csv')"
   ]
  },
  {
   "cell_type": "code",
   "execution_count": 3,
   "id": "d5eb5d0a-bfc0-414e-ab95-216c29d74e9c",
   "metadata": {},
   "outputs": [],
   "source": [
    "players = []\n",
    "for idx, row in league_team_df.iterrows():\n",
    "    if idx < 1:\n",
    "        # excute player data crawling functions \n",
    "        overall_df = crawl_player_overall_stats(int(row.team_id))\n",
    "        defensive_df = crawl_player_defensive_stats(int(row.team_id))\n",
    "        passing_df = crawl_player_passing_stats(int(row.team_id))\n",
    "        offensive_df = crawl_player_offensive_stats(int(row.team_id))\n",
    "    \n",
    "        # merge dataframes\n",
    "        players_df = reduce(lambda x,y: pd.merge(x,y, on='name', how='outer'), [overall_df, defensive_df, passing_df, offensive_df])\n",
    "\n",
    "        for i, player_row in players_df.iterrows():\n",
    "            player: Player = get_player_by_name(player_name=player_row['name'], team_name=row.team_name)\n",
    "            stats = player_row.to_dict()\n",
    "            stats.pop('name')\n",
    "            player.set_stats(data=player_row.to_dict())\n",
    "            players.append(player)"
   ]
  },
  {
   "cell_type": "code",
   "execution_count": 4,
   "id": "b6a0e0a8-76fd-437d-9e0e-b40a7eedce35",
   "metadata": {},
   "outputs": [
    {
     "data": {
      "text/plain": [
       "['Bukayo Saka - g: 4 a: 4 d: 2001-09-05 w: €150K v: €99M',\n",
       " 'Declan Rice - g: 2 a: 1 d: 1999-01-14 w: €130K v: €63M',\n",
       " 'Gabriel Teodoro Martinelli Silva - g: 1 a: 2 d: 2001-06-18 w: €145K v: €61.5M',\n",
       " 'Martin Ødegaard - g: 3 a: 1 d: 1998-12-17 w: €170K v: €109M',\n",
       " 'Thomas Partey - g: 0 a: 0 d: 1993-06-13 w: €150K v: €45M',\n",
       " 'Edward Nketiah - g: 5 a: 0 d: 1999-05-30 w: €74K v: €8.5M',\n",
       " 'Gabriel Fernando de Jesus - g: 1 a: 0 d: 1997-04-03 w: €165K v: €50.5M',\n",
       " 'Benjamin White - g: 1 a: 0 d: 1997-10-08 w: €95K v: €25.5M',\n",
       " 'Oleksandr Zinchenko - g: 1 a: 0 d: 1996-12-15 w: €100K v: €24M',\n",
       " 'Leandro Trossard - g: 3 a: 1 d: 1994-12-04 w: €130K v: €26.5M',\n",
       " 'Gabriel dos Santos Magalhães - g: 0 a: 0 d: 1997-12-19 w: €130K v: €47M',\n",
       " 'William Alain André Gabriel Saliba - g: 1 a: 1 d: 2001-03-24 w: €105K v: €53M',\n",
       " 'David Raya Martin - g: 0 a: 0 d: 1995-09-15 w: €48K v: €19.5M',\n",
       " 'Jurriën David Norman Timber - g: 0 a: 0 d: 2001-06-17 w: €80K v: €33M',\n",
       " 'Kai Lukas Havertz - g: 1 a: 1 d: 1999-06-11 w: €110K v: €46M',\n",
       " 'Fábio Daniel Ferreira Vieira - g: 1 a: 2 d: 2000-05-30 w: €76K v: €16.5M',\n",
       " 'Emile Smith Rowe - g: 0 a: 1 d: 2000-07-28 w: €89K v: €22.5M',\n",
       " '冨安 健洋 - g: 1 a: 0 d: 1998-11-05 w: €73K v: €20M',\n",
       " 'Jakub Piotr Kiwior - g: 0 a: 0 d: 2000-02-15 w: €56K v: €8.5M',\n",
       " 'Mohamed Naser Elsayed Elneny - g: 0 a: 0 d: 1992-07-11 w: €71K v: €4.7M',\n",
       " 'Aaron Ramsdale - g: 0 a: 0 d: 1998-05-14 w: €105K v: €43M',\n",
       " 'Luiz Frello Filho Jorge - g: 0 a: 0 d: 1991-12-20 w: €125K v: €25.5M',\n",
       " 'Reiss Nelson - g: 0 a: 0 d: 1999-12-10 w: €69K v: €8.5M']"
      ]
     },
     "execution_count": 4,
     "metadata": {},
     "output_type": "execute_result"
    }
   ],
   "source": [
    "['{} - g: {} a: {} d: {} w: {} v: {}'.format(\n",
    "    p.get_stat('full_name'),\n",
    "    p.get_stat('goals'),\n",
    "    p.get_stat('assists'),\n",
    "    p.get_stat('date_of_birth'),\n",
    "    p.get_stat('wage'),\n",
    "    p.get_stat('transfer_value')\n",
    ") for p in players]"
   ]
  },
  {
   "cell_type": "code",
   "execution_count": null,
   "id": "82360077-8398-4554-97fc-273df2227e6a",
   "metadata": {},
   "outputs": [],
   "source": []
  }
 ],
 "metadata": {
  "kernelspec": {
   "display_name": "venv",
   "language": "python",
   "name": "venv"
  },
  "language_info": {
   "codemirror_mode": {
    "name": "ipython",
    "version": 3
   },
   "file_extension": ".py",
   "mimetype": "text/x-python",
   "name": "python",
   "nbconvert_exporter": "python",
   "pygments_lexer": "ipython3",
   "version": "3.12.0"
  }
 },
 "nbformat": 4,
 "nbformat_minor": 5
}
